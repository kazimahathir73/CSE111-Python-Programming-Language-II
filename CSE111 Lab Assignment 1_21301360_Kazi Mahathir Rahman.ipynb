{
 "cells": [
  {
   "cell_type": "markdown",
   "id": "ab94922b",
   "metadata": {},
   "source": [
    "# STRING-01"
   ]
  },
  {
   "cell_type": "code",
   "execution_count": 4,
   "id": "b548dd14",
   "metadata": {},
   "outputs": [
    {
     "name": "stdout",
     "output_type": "stream",
     "text": [
      "Enter the String- BaNaNa\n",
      "banana\n"
     ]
    }
   ],
   "source": [
    "str1= input(\"Enter the String- \")\n",
    "up_count=0\n",
    "low_count=0\n",
    "\n",
    "for i in str1:\n",
    "    if(ord(i)>=65 and ord(i)<=90):\n",
    "        up_count+=1\n",
    "    else:\n",
    "        low_count+=1\n",
    "        \n",
    "if(low_count >= up_count):\n",
    "    print(str1.lower())\n",
    "else:\n",
    "    print(str1.upper())"
   ]
  },
  {
   "cell_type": "markdown",
   "id": "dc8aa9f0",
   "metadata": {},
   "source": [
    "# STRING-02"
   ]
  },
  {
   "cell_type": "code",
   "execution_count": 8,
   "id": "13e597dc",
   "metadata": {},
   "outputs": [
    {
     "name": "stdout",
     "output_type": "stream",
     "text": [
      "Enter the String- hasdhah1234\n",
      "MIXED\n"
     ]
    }
   ],
   "source": [
    "str1=input('Enter the String- ')\n",
    "count_num=0\n",
    "count_alp=0\n",
    "\n",
    "for i in str1:\n",
    "    if(ord(i)>=65 and ord(i)<=122):\n",
    "        count_alp+=1\n",
    "    if(ord(i)>=48 and ord(i)<=57):\n",
    "        count_num+=1\n",
    "        \n",
    "if(count_alp != 0 and count_num!= 0):\n",
    "    print('MIXED')\n",
    "if(count_alp != 0 and count_num== 0):\n",
    "    print('WORD')\n",
    "if(count_num != 0 and count_alp== 0):\n",
    "    print(\"NUMBER\")"
   ]
  },
  {
   "cell_type": "markdown",
   "id": "6fe973f3",
   "metadata": {},
   "source": [
    "# STRING-03"
   ]
  },
  {
   "cell_type": "code",
   "execution_count": 16,
   "id": "0954570f",
   "metadata": {},
   "outputs": [
    {
     "name": "stdout",
     "output_type": "stream",
     "text": [
      "Enter the String- coDIng\n",
      "BLANK\n"
     ]
    }
   ],
   "source": [
    "str1=input('Enter the String- ')\n",
    "\n",
    "count1=-1\n",
    "count2=-1\n",
    "\n",
    "for i in range(0,len(str1)):\n",
    "    if(str1[i] >= 'A' and str1[i] <='Z'):\n",
    "        count1= i\n",
    "        break\n",
    "        \n",
    "for i in range(count1+1,len(str1)):\n",
    "    if(str1[i] >= 'A' and str1[i] <='Z'):\n",
    "        count2= i\n",
    "        break\n",
    "        \n",
    "final_str=str1[count1+1:count2]\n",
    "\n",
    "if(len(final_str) != 0):\n",
    "    print(final_str)\n",
    "else:\n",
    "    print(\"BLANK\")"
   ]
  },
  {
   "cell_type": "markdown",
   "id": "59030df0",
   "metadata": {},
   "source": [
    "# STRING-04"
   ]
  },
  {
   "cell_type": "code",
   "execution_count": 18,
   "id": "32091fda",
   "metadata": {
    "scrolled": true
   },
   "outputs": [
    {
     "name": "stdout",
     "output_type": "stream",
     "text": [
      "Enter the String- The book is not too good!\n",
      "The book is not excellent! "
     ]
    }
   ],
   "source": [
    "str1=input('Enter the String- ')\n",
    "\n",
    "if('too good' in str1):\n",
    "    list1=str1.split()\n",
    "    list1.remove('good!')\n",
    "    list1.remove('too')\n",
    "    list1.append('excellent!')\n",
    "    for i in list1:\n",
    "        print(i,end=' ')\n",
    "else:\n",
    "    print(str1)"
   ]
  },
  {
   "cell_type": "markdown",
   "id": "557c586e",
   "metadata": {},
   "source": [
    "# STRING-05"
   ]
  },
  {
   "cell_type": "code",
   "execution_count": 20,
   "id": "f2543b1b",
   "metadata": {},
   "outputs": [
    {
     "name": "stdout",
     "output_type": "stream",
     "text": [
      "Enter the String1- dean\n",
      "Enter the String2- tom\n",
      "Nothing in common\n"
     ]
    }
   ],
   "source": [
    "str1=input('Enter the String1- ')\n",
    "str2=input('Enter the String2- ')\n",
    "final_str=''\n",
    "\n",
    "for i in str1:\n",
    "    if(i in str2):\n",
    "        final_str+= i\n",
    "        \n",
    "for i in str2:\n",
    "    if(i in str1):\n",
    "        final_str+= i\n",
    "        \n",
    "if(len(final_str) == 0):\n",
    "    print('Nothing in common')\n",
    "else:\n",
    "    print(final_str)"
   ]
  },
  {
   "cell_type": "markdown",
   "id": "29676a8b",
   "metadata": {},
   "source": [
    "# STRING-06"
   ]
  },
  {
   "cell_type": "code",
   "execution_count": 4,
   "id": "1160c135",
   "metadata": {},
   "outputs": [
    {
     "name": "stdout",
     "output_type": "stream",
     "text": [
      "Enter the password- ohMyBR@CU\n",
      "Digit missing, "
     ]
    }
   ],
   "source": [
    "password=input('Enter the password- ')\n",
    "count_low = 0\n",
    "count_up= 0\n",
    "count_num= 0\n",
    "count_sp= 0\n",
    "\n",
    "for i in password:\n",
    "    if(ord(i)>= 65 and ord(i)<= 90):\n",
    "        count_up+=1\n",
    "    if(ord(i)>= 97 and ord(i)<= 122):\n",
    "        count_low+=1\n",
    "    if(ord(i)>= 48 and ord(i)<= 57):\n",
    "        count_num+=1\n",
    "    if((ord(i)>= 33 and ord(i)<= 47) or (ord(i)>= 58 and ord(i)<= 64) or (ord(i)>= 91 and ord(i)<= 96) or (ord(i)>= 123 and ord(i)<= 126)):\n",
    "        count_sp+=1\n",
    "\n",
    "dict1={}\n",
    "dict1['Lowercase character']=count_low\n",
    "dict1['Uppercase character']=count_up\n",
    "dict1['Digit']=count_num\n",
    "dict1['Special character']=count_sp\n",
    "\n",
    "for i,k in dict1.items():\n",
    "    if(k == 0):\n",
    "        print(i+' missing',end=', ')\n",
    "    \n",
    "if(count_low != 0 and count_up != 0 and count_num != 0 and count_sp != 0):\n",
    "    print('Ok')"
   ]
  },
  {
   "cell_type": "markdown",
   "id": "18e062d4",
   "metadata": {},
   "source": [
    "# LIST-01"
   ]
  },
  {
   "cell_type": "code",
   "execution_count": 20,
   "id": "0341b89d",
   "metadata": {
    "scrolled": false
   },
   "outputs": [
    {
     "name": "stdout",
     "output_type": "stream",
     "text": [
      "Enter the Number: 10\n",
      "Enter the Number: 10\n",
      "Enter the Number: 10\n",
      "Enter the Number: 20\n",
      "Enter the Number: 20\n",
      "Enter the Number: 30\n",
      "Enter the Number: Stop\n",
      "10 - 3 Times\n",
      "20 - 2 Times\n",
      "30 - 1 Times\n"
     ]
    }
   ],
   "source": [
    "num=input('Enter the Number: ')\n",
    "list1=[]\n",
    "\n",
    "while num != 'Stop':\n",
    "    list1.append(num)\n",
    "    num=input('Enter the Number: ')\n",
    "\n",
    "list2=[]\n",
    "for i in list1:\n",
    "    if(i not in list2):\n",
    "        list2.append(i)\n",
    "        \n",
    "for i in list2:\n",
    "    print(i,'-',list1.count(i),'Times')"
   ]
  },
  {
   "cell_type": "markdown",
   "id": "fed7f3c1",
   "metadata": {},
   "source": [
    "# LIST-02"
   ]
  },
  {
   "cell_type": "code",
   "execution_count": 5,
   "id": "38ff7d6b",
   "metadata": {
    "scrolled": true
   },
   "outputs": [
    {
     "name": "stdout",
     "output_type": "stream",
     "text": [
      "Enter the number of list- 5\n",
      "Enter the number of element in list- 1\n",
      "Enter the element- 4\n",
      "Enter the number of element in list- 3\n",
      "Enter the element- 1\n",
      "Enter the element- 2\n",
      "Enter the element- 3\n",
      "Enter the number of element in list- 3\n",
      "Enter the element- 4\n",
      "Enter the element- 5\n",
      "Enter the element- 6\n",
      "Enter the number of element in list- 3\n",
      "Enter the element- 10\n",
      "Enter the element- 11\n",
      "Enter the element- 12\n",
      "Enter the number of element in list- 3\n",
      "Enter the element- 7\n",
      "Enter the element- 8\n",
      "Enter the element- 9\n",
      "Maximum Sum is-  33\n",
      "[10, 11, 12]\n"
     ]
    }
   ],
   "source": [
    "number=int(input('Enter the number of list- '))\n",
    "list1=[]\n",
    "\n",
    "for i in range(0,number):\n",
    "    \n",
    "    num=int(input('Enter the number of element in list- '))\n",
    "    list2=[]\n",
    "    for i in range(0,num):\n",
    "        num1=int(input('Enter the element- '))\n",
    "        list2.append(num1)\n",
    "    \n",
    "    list1.append(list2)\n",
    "\n",
    "max_list=max(list1)\n",
    "sum_list=[]\n",
    "\n",
    "for i in list1:\n",
    "    sum1=0\n",
    "    for k in i:\n",
    "        sum1+=k\n",
    "    sum_list.append(sum1)\n",
    "    \n",
    "print('Maximum Sum is- ',max(sum_list))\n",
    "print(max_list)"
   ]
  },
  {
   "cell_type": "markdown",
   "id": "710d5dd0",
   "metadata": {},
   "source": [
    "# LIST-03"
   ]
  },
  {
   "cell_type": "code",
   "execution_count": 8,
   "id": "bec5447d",
   "metadata": {
    "scrolled": true
   },
   "outputs": [
    {
     "name": "stdout",
     "output_type": "stream",
     "text": [
      "Enter the number of the list- 3\n",
      "Enter the element list1:2\n",
      "Enter the element list1:3\n",
      "Enter the element list1:6\n",
      "Enter the element of list2:3\n",
      "Enter the element of list2:4\n",
      "Enter the element of list2:5\n",
      "[6, 8, 10, 9, 12, 15, 18, 24, 30]\n"
     ]
    }
   ],
   "source": [
    "num=int(input('Enter the number of list- '))\n",
    "\n",
    "list1=[]\n",
    "for i in range(0,num):\n",
    "    x=int(input('Enter the element of list1:'))\n",
    "    list1.append(x)\n",
    "    \n",
    "list2=[]\n",
    "for i in range(0,num):\n",
    "    x=int(input('Enter the element of list2:'))\n",
    "    list2.append(x)\n",
    "\n",
    "list3=[]\n",
    "    \n",
    "for i in list1:\n",
    "    for k in list2:\n",
    "        count=0\n",
    "        count=i*k\n",
    "        list3.append(count)\n",
    "        \n",
    "print(list3)"
   ]
  },
  {
   "cell_type": "markdown",
   "id": "3818b09c",
   "metadata": {},
   "source": [
    "# LIST-04"
   ]
  },
  {
   "cell_type": "code",
   "execution_count": 2,
   "id": "1d4a8902",
   "metadata": {},
   "outputs": [
    {
     "name": "stdout",
     "output_type": "stream",
     "text": [
      "Enter the Number- 1 4 2 3\n",
      "Enter the Number- 1 4 2 -1 6\n",
      "Enter the Number- Stop\n",
      "UB Jumper\n",
      "Not a UB Jumper\n"
     ]
    }
   ],
   "source": [
    "number=input('Enter the Number- ')\n",
    "list1=[]\n",
    "\n",
    "while True :\n",
    "    if(number == 'Stop'):\n",
    "        break\n",
    "    else:\n",
    "        list1.append(number.split( ))\n",
    "        number=input('Enter the Number- ')\n",
    "        \n",
    "for i in list1:\n",
    "    UB_jumper = True\n",
    "    \n",
    "    for k in range(len(i)-1):\n",
    "        if abs(int(i[k])-int(i[k+1])) >= len(i) :\n",
    "            UB_jumper= False\n",
    "            break\n",
    "        else:\n",
    "            UB_jumper = True\n",
    "\n",
    "    if(UB_jumper):\n",
    "        print('UB Jumper')\n",
    "    else:\n",
    "        print('Not a UB Jumper')   "
   ]
  },
  {
   "cell_type": "markdown",
   "id": "f4339d26",
   "metadata": {},
   "source": [
    "# LIST-05"
   ]
  },
  {
   "cell_type": "code",
   "execution_count": 24,
   "id": "ca946cb3",
   "metadata": {},
   "outputs": [
    {
     "name": "stdout",
     "output_type": "stream",
     "text": [
      "Enter the String- Bracu1234\n",
      "acruB1234"
     ]
    }
   ],
   "source": [
    "str1=input('Enter the String- ')\n",
    "str_low=''\n",
    "str_up=''\n",
    "str_num=''\n",
    "\n",
    "for i in str1:\n",
    "    if(ord(i)>=97 and ord(i)<=122):\n",
    "        str_low+=i\n",
    "    if(ord(i)>=65 and ord(i)<=90):\n",
    "        str_up+=i\n",
    "    if(ord(i)>=48 and ord(i)<=57):\n",
    "        str_num+=i\n",
    "        \n",
    "f_str_low=sorted(str_low)\n",
    "f_str_up=sorted(str_up)\n",
    "f_str_num=sorted(str_num)\n",
    "\n",
    "final_str= f_str_low+f_str_up+f_str_num\n",
    "\n",
    "for i in final_str:\n",
    "    print(i,end='')"
   ]
  },
  {
   "cell_type": "markdown",
   "id": "a5a211cc",
   "metadata": {},
   "source": [
    "# LIST-06"
   ]
  },
  {
   "cell_type": "code",
   "execution_count": 10,
   "id": "93291855",
   "metadata": {},
   "outputs": [
    {
     "name": "stdout",
     "output_type": "stream",
     "text": [
      "Enter the palyer Number- 6\n",
      "Enter the number of competition want to participate- 4\n",
      "Enter the participation number- 0\n",
      "Enter the participation number- 1\n",
      "Enter the participation number- 2\n",
      "Enter the participation number- 3\n",
      "Enter the participation number- 4\n",
      "Enter the participation number- 5\n",
      "The number of team- 0\n"
     ]
    }
   ],
   "source": [
    "pla_num=int(input('Enter the palyer Number- '))\n",
    "com_num=int(input('Enter the number of competition want to participate- '))\n",
    "list1=[]\n",
    "\n",
    "for i in range(0,pla_num):\n",
    "    player=int(input('Enter the participation number- '))\n",
    "    list1.append(player)\n",
    "    \n",
    "list2=[]\n",
    "\n",
    "for i in list1:\n",
    "    sum1=com_num+i\n",
    "    list2.append(sum1)\n",
    "\n",
    "list3=[]\n",
    "for i in list2:\n",
    "    if(i < 5):\n",
    "        list3.append(i)\n",
    "\n",
    "team_num=len(list3)//3\n",
    "print('The number of team-',team_num)"
   ]
  },
  {
   "cell_type": "markdown",
   "id": "f0fc7fe3",
   "metadata": {},
   "source": [
    "# Dictionary & Tuple-01"
   ]
  },
  {
   "cell_type": "code",
   "execution_count": 1,
   "id": "6c05e805",
   "metadata": {
    "scrolled": true
   },
   "outputs": [
    {
     "name": "stdout",
     "output_type": "stream",
     "text": [
      "Enter the number of keys in dictionary1- 4\n",
      "Enter the key- a\n",
      "Enter the value- 100\n",
      "Enter the key- b\n",
      "Enter the value- 100\n",
      "Enter the key- c\n",
      "Enter the value- 200\n",
      "Enter the key- d\n",
      "Enter the value- 300\n",
      "Enter the number of keys in dictionary1- 4\n",
      "Enter the key- a\n",
      "Enter the value- 300\n",
      "Enter the key- b\n",
      "Enter the value- 200\n",
      "Enter the key- d\n",
      "Enter the value- 300\n",
      "Enter the key- e\n",
      "Enter the value- 200\n",
      "{'a': 400, 'b': 300, 'c': 200, 'd': 600, 'e': 200}\n",
      "(200, 300, 400, 600)\n"
     ]
    }
   ],
   "source": [
    "num1=int(input('Enter the number of keys in dictionary1- '))\n",
    "dict1={}\n",
    "for i in range(0,num1):\n",
    "    key=input('Enter the key- ')\n",
    "    value=int(input('Enter the value- '))\n",
    "    dict1[key]=value\n",
    "    \n",
    "num2=int(input('Enter the number of keys in dictionary2- '))\n",
    "dict2={}\n",
    "for i in range(0,num2):\n",
    "    key=input('Enter the key- ')\n",
    "    value=int(input('Enter the value- '))\n",
    "    dict2[key]=value\n",
    "    \n",
    "for i,k in dict1.items():\n",
    "    for j,p in dict2.items():\n",
    "        if(i == j):\n",
    "            dict1[i]=p+k\n",
    "            \n",
    "for i,k in dict2.items():\n",
    "    if(i not in dict1):\n",
    "        dict1[i]=k\n",
    "        \n",
    "list1=[]\n",
    "for i,k in dict1.items():\n",
    "    list1.append(k)\n",
    "final_list=sorted(list1)\n",
    "list3=[]\n",
    "for i in final_list:\n",
    "    if(i not in list3):\n",
    "        list3.append(i)\n",
    "tuple1=tuple(list3)\n",
    "\n",
    "print(dict1)\n",
    "print(tuple1)"
   ]
  },
  {
   "cell_type": "markdown",
   "id": "fd9e96af",
   "metadata": {},
   "source": [
    "# Dictionary & Tuple-02"
   ]
  },
  {
   "cell_type": "code",
   "execution_count": 5,
   "id": "1f063eab",
   "metadata": {},
   "outputs": [
    {
     "name": "stdout",
     "output_type": "stream",
     "text": [
      "Enter the Number: 10\n",
      "Enter the Number: 10\n",
      "Enter the Number: 10\n",
      "Enter the Number: 20\n",
      "Enter the Number: 20\n",
      "Enter the Number: 30\n",
      "Enter the Number: Stop\n",
      "10 - 3 Times\n",
      "20 - 2 Times\n",
      "30 - 1 Times\n"
     ]
    }
   ],
   "source": [
    "num=input('Enter the Number: ')\n",
    "list1=[]\n",
    "\n",
    "while num != 'Stop':\n",
    "    list1.append(num)\n",
    "    num=input('Enter the Number: ')\n",
    "\n",
    "dict1={}\n",
    "for i in list1:\n",
    "    count=list1.count(i)\n",
    "    dict1[i] = str(count)+' Times'\n",
    "    \n",
    "dict2={}\n",
    "for i,k in dict1.items():\n",
    "    if(i not in dict2):\n",
    "        dict2[i]=k\n",
    "        \n",
    "for j,p in dict2.items():\n",
    "    print(j,'-',p)"
   ]
  },
  {
   "cell_type": "markdown",
   "id": "0740e2e4",
   "metadata": {},
   "source": [
    "# Dictionary & Tuple-03"
   ]
  },
  {
   "cell_type": "code",
   "execution_count": 11,
   "id": "008c341e",
   "metadata": {},
   "outputs": [
    {
     "name": "stdout",
     "output_type": "stream",
     "text": [
      "Enter the key numbers in dictionary- 3\n",
      "Enter the key- key1\n",
      "Enter the value- value1\n",
      "Enter the key- key2\n",
      "Enter the value- value2\n",
      "Enter the key- key3\n",
      "Enter the value- value1\n",
      "{'value1': ['key1', 'key3'], 'value2': ['key2']}\n"
     ]
    }
   ],
   "source": [
    "num=int(input('Enter the key numbers in dictionary- '))\n",
    "dict1={}\n",
    "for i in range(0,num):\n",
    "    key=input('Enter the key- ')\n",
    "    value=input('Enter the value- ')\n",
    "    dict1[key]=value\n",
    "    \n",
    "dict2={}\n",
    "\n",
    "for i,k in dict1.items():\n",
    "    if(k not in dict2):\n",
    "        dict2[k]=[i]\n",
    "    else:\n",
    "        dict2[k].append(i)\n",
    "\n",
    "print(dict2)"
   ]
  },
  {
   "cell_type": "markdown",
   "id": "5707891c",
   "metadata": {},
   "source": [
    "# Dictionary & Tuple-04"
   ]
  },
  {
   "cell_type": "code",
   "execution_count": 19,
   "id": "27726dd8",
   "metadata": {},
   "outputs": [
    {
     "name": "stdout",
     "output_type": "stream",
     "text": [
      "Enter the String1- evil\n",
      "Enter the String2- live\n",
      "Those strings are anagrams\n"
     ]
    }
   ],
   "source": [
    "str1=input('Enter the String1- ')\n",
    "str2=input('Enter the String2- ')\n",
    "dict1={}\n",
    "\n",
    "count=len(str2)-1\n",
    "for i in range(0,len(str1)):\n",
    "    dict1[str1[i]]=str2[count]\n",
    "    count-=1\n",
    "\n",
    "dict2={}\n",
    "for j,k in dict1.items():\n",
    "    dict2[k]=j\n",
    "\n",
    "if(dict1 == dict2):\n",
    "    print('Those strings are anagrams')\n",
    "else:\n",
    "    print('Those strings are not anagrams')"
   ]
  },
  {
   "cell_type": "markdown",
   "id": "6b31ff88",
   "metadata": {},
   "source": [
    "# Dictionary & Tuple-05"
   ]
  },
  {
   "cell_type": "code",
   "execution_count": 19,
   "id": "41188f58",
   "metadata": {},
   "outputs": [
    {
     "name": "stdout",
     "output_type": "stream",
     "text": [
      "Enter the String- Hello, World!\n",
      "4433555555666110966677755531111\n"
     ]
    }
   ],
   "source": [
    "dict1={'1' :'.,?!:',\n",
    "       '2' :'ABC',\n",
    "       '3' :'DEF',\n",
    "       '4' :'GHI',\n",
    "       '5' :'JKL',\n",
    "       '6' :'MNO',\n",
    "       '7' :'PQRS',\n",
    "       '8' :'TUV',\n",
    "       '9' :'WXYZ',\n",
    "       '0' :' ' }\n",
    "\n",
    "str1=input('Enter the String- ').upper()\n",
    "num=''\n",
    "\n",
    "for i in str1:\n",
    "    for j,k in dict1.items():\n",
    "        if(i in k):\n",
    "            ind=k.index(i)+1\n",
    "            num+= j*ind\n",
    "            \n",
    "print(num)"
   ]
  }
 ],
 "metadata": {
  "kernelspec": {
   "display_name": "Python 3",
   "language": "python",
   "name": "python3"
  },
  "language_info": {
   "codemirror_mode": {
    "name": "ipython",
    "version": 3
   },
   "file_extension": ".py",
   "mimetype": "text/x-python",
   "name": "python",
   "nbconvert_exporter": "python",
   "pygments_lexer": "ipython3",
   "version": "3.8.8"
  }
 },
 "nbformat": 4,
 "nbformat_minor": 5
}
